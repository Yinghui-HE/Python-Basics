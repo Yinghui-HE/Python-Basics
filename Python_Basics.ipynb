{
  "nbformat": 4,
  "nbformat_minor": 0,
  "metadata": {
    "colab": {
      "name": "HW1_He_Yinghui (Linda).ipynb",
      "provenance": [],
      "collapsed_sections": [],
      "include_colab_link": true
    },
    "kernelspec": {
      "name": "python3",
      "display_name": "Python 3"
    }
  },
  "cells": [
    {
      "cell_type": "markdown",
      "metadata": {
        "id": "view-in-github",
        "colab_type": "text"
      },
      "source": [
        "<a href=\"https://colab.research.google.com/github/Yinghui-HE/Python-Basics/blob/main/Python_Basics.ipynb\" target=\"_parent\"><img src=\"https://colab.research.google.com/assets/colab-badge.svg\" alt=\"Open In Colab\"/></a>"
      ]
    },
    {
      "cell_type": "markdown",
      "metadata": {
        "id": "hm8RAKinXsIP"
      },
      "source": [
        "## **Homework 1**\n",
        "\n",
        "### Create a copy of the notebook to start answering the questions. Name your notebook in the format HW1_lastname_firstname.ipynb to facilitate the grading process. \n",
        "\n",
        "### Answer all the questions, test your code to ensure there are no errors and the results are as expected. Once you have answered all the questions, save the final copy, then go to File-> click on Download.ipynb. Once the local copy has been downloaded, submit your file on Blackboard under the corresponding assignment section. Also provide us a link to your notebook during submission. \n",
        "\n",
        "### **The due date of this homework is 02/05/2021 (Friday).**\n",
        "\n",
        "### Please ensure you follow all the steps mentioned in the homework.\n",
        "\n",
        "### All the questions have a sample input and output to help you understand the question. Please note that your programs will be tested for other sets of inputs and outputs along with the sample provided. So test your code for other inputs.\n",
        "\n",
        "### You can submit your solutions any number of times until the deadline.\n"
      ]
    },
    {
      "cell_type": "markdown",
      "metadata": {
        "id": "uacFrEaZfcfq"
      },
      "source": [
        "##### Q1. Write a program that prompts the user to enter a password then prints the length of the password.\n",
        "\n",
        "```\n",
        "Enter your password: hello\n",
        "Your password is 5 long.\n",
        "```\n",
        "\n",
        "\n"
      ]
    },
    {
      "cell_type": "code",
      "metadata": {
        "id": "avPyES14ftCt"
      },
      "source": [
        "# Type solution here\n",
        "input_str = input(\"Enter your password: \")\n",
        "print(\"Your password is\", len(input_str), \"long\")"
      ],
      "execution_count": null,
      "outputs": []
    },
    {
      "cell_type": "markdown",
      "metadata": {
        "id": "ekh-kABuItli"
      },
      "source": [
        ""
      ]
    },
    {
      "cell_type": "markdown",
      "metadata": {
        "id": "K1yko-xUItU3"
      },
      "source": [
        ""
      ]
    },
    {
      "cell_type": "markdown",
      "metadata": {
        "id": "behD0j_Of2TW"
      },
      "source": [
        "##### Q2. Write a program that prompts the user to enter their full name then prints the number of characters in their name (do not count spaces).\n",
        "\n",
        "```\n",
        "What is your name? Amulya Katti\n",
        "Amulya Katti your name has 11 characters.\n",
        "```"
      ]
    },
    {
      "cell_type": "code",
      "metadata": {
        "id": "XSdIRjwlhSlu"
      },
      "source": [
        "# Type solution here\n",
        "name = input(\"What is your name? \")\n",
        "print(name, \"your name has\", len(name) - name.count(' '), \"characters.\")"
      ],
      "execution_count": null,
      "outputs": []
    },
    {
      "cell_type": "markdown",
      "metadata": {
        "id": "5KHOWF6FhVHV"
      },
      "source": [
        "##### Q3. Write a program that prompts the user to enter a month (as a number), then prints the name of the month and the number of days in that month. Ensure that the user inputs a valid month and handle any error cases.\n",
        "\n",
        "```\n",
        "Enter the month number: 9\n",
        "September has 30 days\n",
        "```"
      ]
    },
    {
      "cell_type": "code",
      "metadata": {
        "id": "KhS-SAEThyTG"
      },
      "source": [
        "# Type solution here\n",
        "month_days_dict = {\n",
        "    \"January\" : 31,\n",
        "    \"February\" : 28,\n",
        "    \"March\" : 31,\n",
        "    \"April\" : 30,\n",
        "    \"May\" : 31,\n",
        "    \"June\" : 30,\n",
        "    \"July\" : 31,\n",
        "    \"August\" : 31,\n",
        "    \"September\" : 30,\n",
        "    \"October\" : 31,\n",
        "    \"November\" : 30,\n",
        "    \"December\" : 31\n",
        "}\n",
        "month_num_list = [\"January\", \"February\", \"March\", \"April\", \"May\", \"June\",\n",
        "    \"July\", \"August\", \"September\", \"October\", \"November\", \"December\"]\n",
        "\n",
        "month_num = int(input(\"Enter the month number: \")) - 1\n",
        "print(month_num_list[month_num], \"has\", month_days_dict[month_num_list[month_num]], \"days\")\n"
      ],
      "execution_count": null,
      "outputs": []
    },
    {
      "cell_type": "markdown",
      "metadata": {
        "id": "O7lnAdGlh6Xa"
      },
      "source": [
        "##### Q4. Write a program that prompts the user to enter a loan amount, annual interest rate, and number of years  for a car loan. Then calculate and print the monthly payment amount.\n",
        "\n",
        "Note:\n",
        "```\n",
        "PMT= [PV*i*((1+i)^n)]/[((1+i)^n)-1]\n",
        "```\n",
        "PMT is the monthly payment\n",
        "\n",
        "PV is the loan amount\n",
        "\n",
        "i is the interest rate per month in decimal form (interest rate percentage divided by 12)\n",
        "\n",
        "n is the number of months (term of the loan in months)\n",
        "\n",
        "```\n",
        "Loan Amount: 30000.00\n",
        "Annual Interest Rate: 4.00\n",
        "Years: 5\n",
        "Your monthly payment is: $552.50\n",
        "```"
      ]
    },
    {
      "cell_type": "code",
      "metadata": {
        "id": "p4B5JH5GiTs9",
        "colab": {
          "base_uri": "https://localhost:8080/"
        },
        "outputId": "022e1bf7-91dd-413f-9fbb-e253f668436f"
      },
      "source": [
        "# Type solution here\n",
        "pv = float(input(\"Loan Amount: \"))\n",
        "annual_i = float(input(\"Annual Interest Rate: \"))\n",
        "i = annual_i / 100 / 12\n",
        "years = float(input(\"Years: \"))\n",
        "n = years * 12\n",
        "\n",
        "# PMT= [PV*i*((1+i)^n)]/[((1+i)^n)-1]\n",
        "pmt = (pv * i * ((1 + i) ** n)) / (((1 + i) ** n) - 1)\n",
        "print(\"Your monthly payment is:\", \"{:.2f}\".format(pmt))"
      ],
      "execution_count": null,
      "outputs": [
        {
          "output_type": "stream",
          "text": [
            "Loan Amount: 30000.00\n",
            "Annual Interest Rate: 4.00\n",
            "Years: 5\n",
            "Your monthly payment is: 552.50\n"
          ],
          "name": "stdout"
        }
      ]
    },
    {
      "cell_type": "markdown",
      "metadata": {
        "id": "SjiolJKgiWV-"
      },
      "source": [
        "##### Q5. Write a program to that prompts the user to enter a string. Then check whether or not the string is a palindrome.\n",
        "\n",
        "```\n",
        "Enter a string: Madam\n",
        "Madam, is a palindrome!\n",
        "```"
      ]
    },
    {
      "cell_type": "code",
      "metadata": {
        "id": "F5_M934Ri0es"
      },
      "source": [
        "# Type solution here\n",
        "input_str = input(\"Enter a string: \").lower()\n",
        "\n",
        "# Check whether the input string is a palindrome or not\n",
        "if(input_str == input_str[::-1]):\n",
        "  print(input_str, \"is a palindrome!\")\n",
        "else:\n",
        "  print(input_str, \"is not a palindrome!\")"
      ],
      "execution_count": null,
      "outputs": []
    },
    {
      "cell_type": "markdown",
      "metadata": {
        "id": "BLBD6n9vkJEu"
      },
      "source": [
        "##### Q6. Write a program to compute and print all possible combinations of change for \\$1. Denominations to be considered – quarter, dime, nickel, penny.\n",
        "\n",
        "Hint: Use nested loops (loops within loops for the various denominations of coins)\n",
        "\n",
        "```\n",
        "Change for $1:\n",
        "0 quarters, 0 dimes, 0 nickels, 100 pennies\n",
        "…\n",
        "4 quarters, 0 dimes, 0 nickels, 0 pennies\n",
        "```"
      ]
    },
    {
      "cell_type": "code",
      "metadata": {
        "id": "kAQsTjwDkZZ5"
      },
      "source": [
        "# Type solution here\n",
        "print(\"Change for $1: \")\n",
        "for num_quarters in range(0, 5): # q = $0.25\n",
        "  for num_dimes in range(0, 11): # d = $0.1\n",
        "    for num_nickels in range(0, 21): # n = $0.05\n",
        "      for num_pennies in range(0, 101):\n",
        "        # print when a combination pf $1 is satisfied\n",
        "        if 25 * num_quarters + 10 * num_dimes + 5 * num_nickels + num_pennies == 100:\n",
        "          print(num_quarters, \"quarters,\", num_dimes, \"dimes,\", num_nickels, \"nickels,\", num_pennies, \"pennies\")\n",
        "\n"
      ],
      "execution_count": null,
      "outputs": []
    },
    {
      "cell_type": "markdown",
      "metadata": {
        "id": "rUPDjYiIkbgs"
      },
      "source": [
        "##### Q7. Ask the user to enter two positive integers between 1 and 100. Read those integers. Then output a multiplication table of the first number times the second number. \n",
        "\n",
        "Note: You have to ensure the entered numbers are between 1 and 100 only.\n",
        "\n",
        "```\n",
        "Please enter an integer: 5\n",
        "Please enter another integer: 20\n",
        "5 x 1 = 5\n",
        "5 x 2 = 10\n",
        "5 x 3 = 15\n",
        "…\n",
        "5 x 20 = 100\n",
        "```"
      ]
    },
    {
      "cell_type": "code",
      "metadata": {
        "id": "Qg0Orv1klHzA"
      },
      "source": [
        "# Type solution here\n",
        "int1 = int(input(\"Please enter an integer (between 1 and 100): \"))\n",
        "while int1 < 1 or int1 > 100: \n",
        "  int1 = int(input(\"Please enter an integer (between 1 and 100): \"))\n",
        "\n",
        "int2 = int(input(\"Please enter another integer (between 1 and 100): \"))\n",
        "while int2 <1 or int2 > 100: \n",
        "  int2 = int(input(\"Please enter another integer (between 1 and 100): \"))\n",
        "\n",
        "# Print the multiplication table\n",
        "for curr_int2 in range(1, int2+1):\n",
        "  print(int1, \"x\", curr_int2, \"=\", int1 * curr_int2)"
      ],
      "execution_count": null,
      "outputs": []
    },
    {
      "cell_type": "markdown",
      "metadata": {
        "id": "SbnbPUPTlLD9"
      },
      "source": [
        "##### Q8. Write a program to ask the user to enter a password. Then check to see if it is a valid password based on these requirements -\n",
        "\n",
        "Must be at least 8 characters long\n",
        "\n",
        "Must contain both uppercase and lowercase letters\n",
        "\n",
        "Must contain at least one number between 0-9\n",
        "\n",
        "Must contain a special character -!,@,#,$\n",
        "\n",
        "If the password is not valid, ask the user to re-enter. This should continue until the user enters a valid password. After a valid password is entered, print Access Granted!\n",
        "\n",
        "```\n",
        "Please enter a password. Follow these requirements - \n",
        "a. Must be at least 8 characters long\n",
        "b. Must contain both uppercase and lowercase letters\n",
        "c. Must contain at least one number between 0-9\n",
        "d. Must contain a special character -!,@,#,$\n",
        "Password: HelloWorld1\n",
        "Invalid password. Try again!\n",
        "Password: Hello@World1\n",
        "Access Granted!\n",
        "```\n"
      ]
    },
    {
      "cell_type": "code",
      "metadata": {
        "id": "OXmZ177Rl-RV"
      },
      "source": [
        "# State the password requirements\n",
        "print(\"Please enter a password. Follow these requirements - \")\n",
        "print(\"a. Must be at least 8 characters long\")\n",
        "print(\"b. Must contain both uppercase and lowercase letters\")\n",
        "print(\"c. Must contain at least one number between 0-9\")\n",
        "print(\"d. Must contain a special character -!,@,#,$\")\n",
        "\n",
        "# Input a password\n",
        "special_chars = [\"!\", \"@\", \"#\", \"$\"]\n",
        "success_flag = False\n",
        "\n",
        "while not success_flag:\n",
        "  password_str = input(\"Password: \")\n",
        "  # Check conditioms\n",
        "  if len(password_str) < 8:\n",
        "    print(\"Invalid password. Try again!\")\n",
        "  elif (not any(letter.isupper() for letter in password_str)) or (not any(letter.islower() for letter in password_str)):\n",
        "    print(\"Invalid password. Try again!\")\n",
        "  elif not any(letter.isdigit() for letter in password_str):\n",
        "    print(\"Invalid password. Try again!\")\n",
        "  elif not any(letter in special_chars for letter in password_str):\n",
        "    print(\"Invalid password. Try again!\")\n",
        "  else:\n",
        "    success_flag = True\n",
        "\n",
        "# grant access when the password is successfully set\n",
        "print(\"Access Granted!\")\n"
      ],
      "execution_count": null,
      "outputs": []
    },
    {
      "cell_type": "markdown",
      "metadata": {
        "id": "-0sdutTDnTKA"
      },
      "source": [
        "##### Q9. Given the score sheet of participants in a competition, you are required to find the runner-up score. You are given scores in a list. Find the score of the runner-up.\n",
        "\n",
        "```\n",
        "list1 - [2, 3, 6, 6, 5]\n",
        "runner_up - 5\n",
        "\n",
        "list2 - [1, 7, 5, 3, 10, 4, 5, 5, 6, 11]\n",
        "runner_up - 10\n",
        "```"
      ]
    },
    {
      "cell_type": "code",
      "metadata": {
        "id": "12YP9OaqpGRK",
        "colab": {
          "base_uri": "https://localhost:8080/"
        },
        "outputId": "8b11beea-25ba-4406-93d9-a7f2bc8c0ad1"
      },
      "source": [
        "# Define the two lists\n",
        "score_list = [1, 7, 5, 3, 10, 4, 5, 5, 6, 11]\n",
        "\n",
        "# Sort the list in reverse order \n",
        "score_list.sort(reverse=True)\n",
        "\n",
        "# Find the runner_up\n",
        "largest = score_list[0]\n",
        "runner_up = largest\n",
        "for i in range(1, len(score_list)):\n",
        "  if score_list[i] < largest:\n",
        "    runner_up = score_list[i]\n",
        "    break\n",
        "print(\"runner_up -\", runner_up)"
      ],
      "execution_count": null,
      "outputs": [
        {
          "output_type": "stream",
          "text": [
            "runner_up - 10\n"
          ],
          "name": "stdout"
        }
      ]
    },
    {
      "cell_type": "code",
      "metadata": {
        "id": "P87RwJIt9c69"
      },
      "source": [
        ""
      ],
      "execution_count": null,
      "outputs": []
    }
  ]
}